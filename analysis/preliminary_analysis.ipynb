{
 "cells": [
  {
   "cell_type": "markdown",
   "id": "61a149e2",
   "metadata": {},
   "source": [
    "# keyboard accessibility analysis"
   ]
  },
  {
   "cell_type": "markdown",
   "id": "5d1b816d",
   "metadata": {},
   "source": [
    "## Installs & Loads"
   ]
  },
  {
   "cell_type": "code",
   "execution_count": 1,
   "id": "63892b0b",
   "metadata": {},
   "outputs": [],
   "source": [
    "# %pip install numpy pandas matplotlib seaborn scikit-learn"
   ]
  },
  {
   "cell_type": "code",
   "execution_count": 2,
   "id": "bdae2871",
   "metadata": {},
   "outputs": [],
   "source": [
    "import numpy as np\n",
    "import pandas as pd\n",
    "import matplotlib.pyplot as plt\n",
    "import seaborn as sns\n",
    "\n",
    "import json"
   ]
  },
  {
   "cell_type": "code",
   "execution_count": 3,
   "id": "a7223af6",
   "metadata": {},
   "outputs": [],
   "source": [
    "file = \"keyboard-accessibility-results.json\""
   ]
  },
  {
   "cell_type": "code",
   "execution_count": null,
   "id": "66501134",
   "metadata": {},
   "outputs": [],
   "source": [
    "data = json.load(open(file))"
   ]
  },
  {
   "cell_type": "markdown",
   "id": "5b9b2288",
   "metadata": {},
   "source": [
    "## Save all metadata info from each issue for future reference"
   ]
  },
  {
   "cell_type": "code",
   "execution_count": null,
   "id": "22623f2e",
   "metadata": {},
   "outputs": [],
   "source": [
    "all_ids = {}\n",
    "\n",
    "data0 = data[0]['axeResults']\n",
    "\n",
    "data0['inapplicable']\n",
    "\n",
    "for issue in data0['inapplicable'] + data0['passes'] + data0['incomplete'] + data0['violations']:\n",
    "    issue_temp = issue.copy()\n",
    "    id = issue['id']\n",
    "    issue_temp.pop('id')\n",
    "    issue_temp.pop('impact')\n",
    "    issue_temp.pop('nodes')\n",
    "    all_ids[id] = issue_temp"
   ]
  },
  {
   "cell_type": "code",
   "execution_count": null,
   "id": "1f194a4c",
   "metadata": {},
   "outputs": [],
   "source": [
    "# data[0]"
   ]
  },
  {
   "cell_type": "markdown",
   "id": "cfed7fcc",
   "metadata": {},
   "source": [
    "## Find matrix of tools x issues for N/A, pass, incomplete, violation"
   ]
  },
  {
   "cell_type": "code",
   "execution_count": null,
   "id": "30fedf1b",
   "metadata": {},
   "outputs": [],
   "source": [
    "tools = [x['name'] for x in data]\n",
    "issues = list(all_ids.keys())\n",
    "issues.sort()"
   ]
  },
  {
   "cell_type": "code",
   "execution_count": null,
   "id": "3b23fc15",
   "metadata": {},
   "outputs": [],
   "source": [
    "tool_overview = {}\n",
    "for i in range(len(data)): \n",
    "    data_i = data[i]['axeResults']\n",
    "    tool_overview[tools[i]] = {\"inapplicable\": [issue['id'] for issue in data_i['inapplicable']],\n",
    "                               \"passes\": [issue['id'] for issue in data_i['passes']],\n",
    "                               \"incomplete\": [issue['id'] for issue in data_i['incomplete']],\n",
    "                               \"violations\": [issue['id'] for issue in data_i['violations']]}"
   ]
  },
  {
   "cell_type": "code",
   "execution_count": null,
   "id": "2068638c",
   "metadata": {},
   "outputs": [],
   "source": [
    "rows = {}\n",
    "for tool, tool_data in tool_overview.items():\n",
    "    row = {}\n",
    "    for issue_id in issues:\n",
    "        if issue_id in tool_data['violations']:\n",
    "            row[issue_id] = 'violation'\n",
    "        elif issue_id in tool_data['passes']:\n",
    "            row[issue_id] = 'pass'\n",
    "        elif issue_id in tool_data['incomplete']:\n",
    "            row[issue_id] = 'incomplete'\n",
    "        elif issue_id in tool_data['inapplicable']:\n",
    "            row[issue_id] = 'N/A'\n",
    "        else:\n",
    "            row[issue_id] = 'N/A'\n",
    "    rows[tool] = row\n",
    "\n",
    "df_matrix = pd.DataFrame.from_dict(rows, orient='index')\n",
    "df_matrix.index.name = 'Tool'"
   ]
  },
  {
   "cell_type": "code",
   "execution_count": null,
   "id": "ba3c6ed8",
   "metadata": {},
   "outputs": [],
   "source": [
    "df_matrix.head(10)"
   ]
  },
  {
   "cell_type": "code",
   "execution_count": null,
   "id": "757643ee",
   "metadata": {},
   "outputs": [],
   "source": [
    "na_counts = (df_matrix == 'N/A').sum()\n",
    "all_na_columns = na_counts[na_counts == len(df_matrix)].index.tolist()\n",
    "\n",
    "print(\"Columns where all tools are N/A:\")\n",
    "print(all_na_columns)\n"
   ]
  },
  {
   "cell_type": "code",
   "execution_count": null,
   "id": "8a292785",
   "metadata": {},
   "outputs": [],
   "source": [
    "from matplotlib.colors import ListedColormap\n",
    "import matplotlib.patches as mpatches\n",
    "\n",
    "color_map = {\n",
    "    'N/A': \"#ffffff\",\n",
    "    'pass': \"#30d336\",\n",
    "    'incomplete': '#ffeb3b',\n",
    "    'violation': \"#f82719\"\n",
    "}\n",
    "\n",
    "categories = list(color_map.keys())\n",
    "cat_to_num = {cat: i for i, cat in enumerate(categories)}\n",
    "df_num = df_matrix.replace(cat_to_num).astype(int)\n",
    "cmap = ListedColormap([color_map[cat] for cat in categories])\n",
    "\n",
    "plt.figure(figsize=(20, 20))\n",
    "ax = sns.heatmap(\n",
    "    df_num,\n",
    "    cmap=cmap,\n",
    "    cbar=False,\n",
    "    linewidths=0.5,\n",
    "    linecolor='gray'\n",
    ")\n",
    "\n",
    "legend_handles = [mpatches.Patch(color=color, label=label) for label, color in color_map.items()]\n",
    "plt.legend(\n",
    "    handles=legend_handles,\n",
    "    title=\"AXE Result\",\n",
    "    bbox_to_anchor=(1.05, 1),\n",
    "    loc='upper left',\n",
    "    fontsize=14,\n",
    "    title_fontsize=16\n",
    ")\n",
    "\n",
    "plt.xticks(rotation=90, fontsize=12)\n",
    "plt.yticks(rotation=0, fontsize=12)\n",
    "plt.xlabel(\"AXE Issue\", fontsize=20)\n",
    "plt.ylabel(\"Tool\", fontsize=20)\n",
    "plt.title(\"AXE Accessibility Analysis\", fontsize=30)\n",
    "\n",
    "plt.show()"
   ]
  },
  {
   "cell_type": "markdown",
   "id": "c685826a",
   "metadata": {},
   "source": [
    "## Compare issues to INSCIDAR issues"
   ]
  },
  {
   "cell_type": "code",
   "execution_count": null,
   "id": "5dd3e4e4",
   "metadata": {},
   "outputs": [],
   "source": [
    "df_issues = pd.read_csv(\"inscidar_issues.csv\")\n",
    "issues_inscidar = list(df_issues['ID'])\n",
    "issues_axe = all_ids.keys()"
   ]
  },
  {
   "cell_type": "code",
   "execution_count": null,
   "id": "757c473f",
   "metadata": {},
   "outputs": [],
   "source": [
    "set(issues_inscidar) - set(issues_axe)\n"
   ]
  },
  {
   "cell_type": "code",
   "execution_count": null,
   "id": "766c2fdd",
   "metadata": {},
   "outputs": [],
   "source": [
    "set(issues_axe) - set(issues_inscidar)\n"
   ]
  },
  {
   "cell_type": "markdown",
   "id": "eeb1eb8c",
   "metadata": {},
   "source": [
    "## Do we have all tools?"
   ]
  },
  {
   "cell_type": "code",
   "execution_count": null,
   "id": "ff417791",
   "metadata": {},
   "outputs": [],
   "source": [
    "df_tofinddataapp = pd.read_csv(\"To Find Data App URLs - uniques_by_url_manually_pruned.csv\")"
   ]
  },
  {
   "cell_type": "code",
   "execution_count": null,
   "id": "4bb65cbc",
   "metadata": {},
   "outputs": [],
   "source": [
    "df_tofinddataapp.head(10)"
   ]
  },
  {
   "cell_type": "code",
   "execution_count": null,
   "id": "ffbfa8b8",
   "metadata": {},
   "outputs": [],
   "source": [
    "df_tofinddataapp_valid = df_tofinddataapp[df_tofinddataapp[\"Data App URL\"].notna()]\n",
    "df_tofinddataapp_valid.shape"
   ]
  },
  {
   "cell_type": "markdown",
   "id": "8b6237c0",
   "metadata": {},
   "source": [
    "Seems like there are 20 missing ones, which are they?"
   ]
  },
  {
   "cell_type": "code",
   "execution_count": null,
   "id": "40f81128",
   "metadata": {},
   "outputs": [],
   "source": [
    "# check if there are duplicates\n",
    "print(list(df_tofinddataapp_valid['Name']) == set(df_tofinddataapp_valid['Name']))\n",
    "print(list(tools) == set(tools))"
   ]
  },
  {
   "cell_type": "code",
   "execution_count": null,
   "id": "f511b6c1",
   "metadata": {},
   "outputs": [],
   "source": [
    "# find duplicates\n",
    "from collections import Counter\n",
    "\n",
    "counts_dataapp = Counter(df_tofinddataapp_valid['Name'])\n",
    "counts_tools = Counter(tools)\n",
    "\n",
    "duplicates_dataapp = [item for item, count in counts_dataapp.items() if count > 1]\n",
    "duplicates_tools = [item for item, count in counts_tools.items() if count > 1]\n",
    "\n",
    "print(duplicates_dataapp)\n",
    "print(duplicates_tools)"
   ]
  },
  {
   "cell_type": "code",
   "execution_count": null,
   "id": "eed9b7eb",
   "metadata": {},
   "outputs": [],
   "source": [
    "set(df_tofinddataapp_valid['Name']) - set(tools)"
   ]
  },
  {
   "cell_type": "code",
   "execution_count": null,
   "id": "7c4411c0",
   "metadata": {},
   "outputs": [],
   "source": [
    "set(tools) - set(df_tofinddataapp_valid['Name'])"
   ]
  },
  {
   "cell_type": "code",
   "execution_count": null,
   "id": "69c2f119",
   "metadata": {},
   "outputs": [],
   "source": [
    "set(tools) - set(df_tofinddataapp['Name'])"
   ]
  },
  {
   "cell_type": "markdown",
   "id": "290656f4",
   "metadata": {},
   "source": [
    "So there are quite a few valid data app URLs from which we do not have the AXE results. Probably because these gave some other error.\n",
    "\n",
    "There are 3 tools that were not part of the data app URLs that we do have AXE results from. How?"
   ]
  },
  {
   "cell_type": "markdown",
   "id": "18d02250",
   "metadata": {},
   "source": [
    "## Failure rates"
   ]
  },
  {
   "cell_type": "code",
   "execution_count": null,
   "id": "e5c21283",
   "metadata": {},
   "outputs": [],
   "source": [
    "header = ['tool_name', 'url', 'issue_id', 'issue_desc', 'issue_impact', 'issue_help', 'issue_url', 'violations', 'passes', 'total_checks', 'failure_rate']"
   ]
  },
  {
   "cell_type": "code",
   "execution_count": null,
   "id": "369192f9",
   "metadata": {},
   "outputs": [],
   "source": [
    "rows = []\n",
    "\n",
    "for data_i in data:\n",
    "    tool_name = data_i['name']\n",
    "    url = data_i['url']\n",
    "    axeResults = data_i['axeResults']\n",
    "\n",
    "    issue_dict = {}\n",
    "\n",
    "    for issue in axeResults['passes']:\n",
    "        issue_id = issue['id']\n",
    "        issue_dict[issue_id] = {\n",
    "            'tool_name': tool_name,\n",
    "            'issue_id': issue_id,\n",
    "            'issue_desc': issue['description'],\n",
    "            'issue_impact': issue['impact'],\n",
    "            'issue_help': issue['help'],\n",
    "            'issue_url': issue['helpUrl'],\n",
    "            'passes': len(issue['nodes']),\n",
    "            'violations': 0\n",
    "        }\n",
    "\n",
    "    for issue in axeResults['violations']:\n",
    "        issue_id = issue['id']\n",
    "        if issue_id in issue_dict:\n",
    "            issue_dict[issue_id]['violations'] = len(issue['nodes'])\n",
    "            issue_dict[issue_id]['issue_impact'] = issue['impact']\n",
    "        else:\n",
    "            issue_dict[issue_id] = {\n",
    "                'tool_name': tool_name,\n",
    "                'issue_id': issue_id,\n",
    "                'issue_desc': issue['description'],\n",
    "                'issue_impact': issue['impact'],\n",
    "                'issue_help': issue['help'],\n",
    "                'issue_url': issue['helpUrl'],\n",
    "                'passes': 0,\n",
    "                'violations': len(issue['nodes'])\n",
    "            }\n",
    "\n",
    "    rows.extend(issue_dict.values())\n",
    "\n",
    "df_reports = pd.DataFrame(rows)\n",
    "df_reports['total_checks'] = df_reports['passes'] + df_reports['violations']\n",
    "df_reports['failure_rate'] = df_reports['violations'] / df_reports['total_checks'].replace(0, np.nan)\n"
   ]
  },
  {
   "cell_type": "code",
   "execution_count": null,
   "id": "1d4865d7",
   "metadata": {},
   "outputs": [],
   "source": [
    "df_reports.head(10)"
   ]
  },
  {
   "cell_type": "markdown",
   "id": "3888509b",
   "metadata": {},
   "source": [
    "Similar to INSCIDAR"
   ]
  },
  {
   "cell_type": "code",
   "execution_count": null,
   "id": "2d16d3ec",
   "metadata": {},
   "outputs": [],
   "source": [
    "reports = df_reports"
   ]
  },
  {
   "cell_type": "code",
   "execution_count": null,
   "id": "c0221e4d",
   "metadata": {},
   "outputs": [],
   "source": [
    "\"\"\"\n",
    "Store the column names for metadata of pages\n",
    "\"\"\"\n",
    "ISSUE_COLUMNS = [\n",
    "    'issue_id',\n",
    "    'issue_desc',\n",
    "    'issue_impact',\n",
    "    'issue_help',\n",
    "    'issue_url',\n",
    "    # 'issue_name',\n",
    "    # 'issue_filter',\n",
    "    # 'issue_overall_impact',\n",
    "    # 'issue_note_overall_impact_hdv',\n",
    "    # 'issue_severity',\n",
    "    # 'issue_data_related',\n",
    "    # 'issue_data_related_rule',\n",
    "    # 'issue_pour_category',\n",
    "    # 'issue_wcag_level',\n",
    "    # 'issue_difficulty_to_fix',\n",
    "    # 'issue_missing_label_related'\n",
    "]\n",
    "PAGE_METADATA_COLUMNS = [a for a in reports.columns.tolist() if a not in (ISSUE_COLUMNS + ['violations', 'passes', 'total_checks', 'failure_rate'])]"
   ]
  },
  {
   "cell_type": "code",
   "execution_count": null,
   "id": "31650309",
   "metadata": {},
   "outputs": [],
   "source": [
    "PAGE_METADATA_COLUMNS"
   ]
  },
  {
   "cell_type": "code",
   "execution_count": null,
   "id": "f6e1871b",
   "metadata": {},
   "outputs": [],
   "source": [
    "\"\"\"\n",
    "Group by Page\n",
    "\"\"\"\n",
    "reports_by_page = reports.groupby(\n",
    "    PAGE_METADATA_COLUMNS,\n",
    "    dropna=False \n",
    ").agg({\n",
    "    'violations': 'sum',\n",
    "    'passes': 'sum',\n",
    "    'total_checks': 'sum',\n",
    "}).reset_index()\n",
    "\n",
    "\"\"\"\n",
    "Calculate the failure rate\n",
    "\"\"\"\n",
    "reports_by_page['failure_rate'] = reports_by_page.violations / reports_by_page.total_checks"
   ]
  },
  {
   "cell_type": "code",
   "execution_count": null,
   "id": "a1543c9a",
   "metadata": {},
   "outputs": [],
   "source": [
    "reports_by_page.head(10)"
   ]
  },
  {
   "cell_type": "code",
   "execution_count": null,
   "id": "f2634d9a",
   "metadata": {},
   "outputs": [],
   "source": [
    "reports_by_page_sorted = reports_by_page.sort_values(by=\"failure_rate\", ascending=True)"
   ]
  },
  {
   "cell_type": "code",
   "execution_count": null,
   "id": "8220af08",
   "metadata": {},
   "outputs": [],
   "source": [
    "average_tool_failure_rate = reports_by_page['failure_rate'].mean()\n",
    "average_tool_failure_rate"
   ]
  },
  {
   "cell_type": "code",
   "execution_count": null,
   "id": "98708ca1",
   "metadata": {},
   "outputs": [],
   "source": [
    "print(reports_by_page['failure_rate'].min())\n",
    "print(reports_by_page['failure_rate'].max())"
   ]
  },
  {
   "cell_type": "code",
   "execution_count": null,
   "id": "ec785b62",
   "metadata": {},
   "outputs": [],
   "source": [
    "plt.figure(figsize=(8, 6))\n",
    "plt.barh(reports_by_page_sorted[\"tool_name\"], reports_by_page_sorted[\"failure_rate\"])\n",
    "plt.xlabel(\"Failure Rate\")\n",
    "plt.ylabel(\"Tool Name\")\n",
    "plt.title(\"Accessibility Failure Rate by Tool\")\n",
    "plt.xticks(size=8)\n",
    "plt.yticks(size=5)\n",
    "plt.show()\n"
   ]
  },
  {
   "cell_type": "code",
   "execution_count": null,
   "id": "5b6b357b",
   "metadata": {},
   "outputs": [],
   "source": [
    "plt.figure(figsize=(8, 6))\n",
    "plt.barh(reports_by_page_sorted[\"tool_name\"][-30:], reports_by_page_sorted[\"failure_rate\"][-30:])\n",
    "plt.xlabel(\"Failure Rate\")\n",
    "plt.ylabel(\"Tool Name\")\n",
    "plt.title(\"Accessibility Failure Rate by Tool for Top 30 Tools\")\n",
    "plt.xticks(size=8)\n",
    "plt.yticks(size=8)\n",
    "plt.show()"
   ]
  },
  {
   "cell_type": "code",
   "execution_count": null,
   "id": "e8b28d1d",
   "metadata": {},
   "outputs": [],
   "source": [
    "\"\"\"\n",
    "Group by Issue\n",
    "\"\"\"\n",
    "reports_by_issue = reports.groupby(\n",
    "    ['issue_id'],\n",
    "    dropna=False \n",
    ").agg({\n",
    "    'violations': 'sum',\n",
    "    'passes': 'sum',\n",
    "    'total_checks': 'sum',\n",
    "}).reset_index()"
   ]
  },
  {
   "cell_type": "code",
   "execution_count": null,
   "id": "f13d6654",
   "metadata": {},
   "outputs": [],
   "source": [
    "reports_by_issue.head(10)"
   ]
  },
  {
   "cell_type": "code",
   "execution_count": null,
   "id": "c34ed32d",
   "metadata": {},
   "outputs": [],
   "source": [
    "reports_by_issue_sorted = reports_by_issue.sort_values(by=\"violations\", ascending=False)\n",
    "reports_by_issue_sorted.head(10)\n",
    "\n",
    "average_violations = reports_by_issue['violations'].mean()\n",
    "average_violations"
   ]
  },
  {
   "cell_type": "markdown",
   "id": "bed11fd0",
   "metadata": {},
   "source": [
    "## Violations"
   ]
  },
  {
   "cell_type": "code",
   "execution_count": null,
   "id": "8a30b5b7",
   "metadata": {},
   "outputs": [],
   "source": [
    "# find violation severity\n",
    "\n",
    "# is severity different for different tools? or always the same with the same issue id?\n",
    "mapping_issue_impact = {}\n",
    "\n",
    "for data_i in data:\n",
    "    tool_name = data_i['name']\n",
    "    axeResults = data_i['axeResults']\n",
    "    for issue in axeResults['violations']:\n",
    "        issue_id = issue['id']\n",
    "        impact = issue['impact']\n",
    "        if issue_id not in mapping_issue_impact:\n",
    "            mapping_issue_impact[issue_id] = set()\n",
    "        mapping_issue_impact[issue_id].add(impact)\n",
    "        \n",
    "for issue_id, impacts in mapping_issue_impact.items():\n",
    "    if len(impacts) > 1:\n",
    "        print(f\"Issue ID {issue_id} has multiple impacts: {impacts}\")\n",
    "\n",
    "# so each issue has always the same impact\n",
    "mapping_issue_impact = {issue_id: list(impacts)[0] for issue_id, impacts in mapping_issue_impact.items()}"
   ]
  },
  {
   "cell_type": "code",
   "execution_count": null,
   "id": "16a7d4c0",
   "metadata": {},
   "outputs": [],
   "source": [
    "mapping_issue_impact"
   ]
  },
  {
   "cell_type": "code",
   "execution_count": null,
   "id": "e147074a",
   "metadata": {},
   "outputs": [],
   "source": [
    "\"\"\"\n",
    "Group by Impact\n",
    "\"\"\"\n",
    "reports['impact'] = reports['issue_id'].map(mapping_issue_impact)\n",
    "reports_by_impact = reports.groupby(\n",
    "    ['impact'],\n",
    "    dropna=False \n",
    ").agg({\n",
    "    'violations': 'sum',\n",
    "    'passes': 'sum',\n",
    "    'total_checks': 'sum',\n",
    "}).reset_index()\n",
    "\n",
    "reports_by_impact.sort_values(by=\"impact\", key=lambda x: x.map({'critical': 0, 'serious': 1, 'moderate': 2, 'minor': 3}), ascending=True)"
   ]
  },
  {
   "cell_type": "markdown",
   "id": "62ceafd2",
   "metadata": {},
   "source": [
    "## Keyboard specific issues"
   ]
  },
  {
   "cell_type": "code",
   "execution_count": null,
   "id": "7e0d6fbd",
   "metadata": {},
   "outputs": [],
   "source": [
    "categoriesToCheck = [\n",
    "    \"cat.keyboard\",\"wcag131\",\"wcag211\",\"wcag213\",\"wcag221\",\"wcag241\",\"wcag332\",\"wcag412\",\n",
    "    \"wcag132\",\"wcag1413\",\"wcag212\",\"wcag214\",\"wcag243\",\"wcag247\",\"wcag251\",\"wcag253\",\"wcag321\",\"wcag322\",\"wcag325\" # <- axe doesn't seem to test for these\n",
    "]"
   ]
  },
  {
   "cell_type": "code",
   "execution_count": null,
   "id": "f119e2a2",
   "metadata": {},
   "outputs": [],
   "source": [
    "keyboard_issues = [issue for issue in all_ids.keys() if any(tag in categoriesToCheck for tag in all_ids[issue][\"tags\"])]"
   ]
  },
  {
   "cell_type": "code",
   "execution_count": null,
   "id": "de464ed9",
   "metadata": {},
   "outputs": [],
   "source": [
    "print(len(all_ids.keys()))\n",
    "print(len(keyboard_issues))"
   ]
  },
  {
   "cell_type": "code",
   "execution_count": null,
   "id": "697a17f5",
   "metadata": {},
   "outputs": [],
   "source": [
    "keyboard_issues_impact = {issue: mapping_issue_impact[issue] if issue in mapping_issue_impact else \"unknown\" for issue in keyboard_issues}\n",
    "keyboard_issues_impact"
   ]
  },
  {
   "cell_type": "markdown",
   "id": "6e30352b",
   "metadata": {},
   "source": [
    "Should we rerun all with just these issues? What to report?"
   ]
  }
 ],
 "metadata": {
  "kernelspec": {
   "display_name": ".venv (3.11.4)",
   "language": "python",
   "name": "python3"
  },
  "language_info": {
   "codemirror_mode": {
    "name": "ipython",
    "version": 3
   },
   "file_extension": ".py",
   "mimetype": "text/x-python",
   "name": "python",
   "nbconvert_exporter": "python",
   "pygments_lexer": "ipython3",
   "version": "3.11.4"
  }
 },
 "nbformat": 4,
 "nbformat_minor": 5
}
