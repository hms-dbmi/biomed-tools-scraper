{
 "cells": [
  {
   "cell_type": "markdown",
   "id": "0b25357b",
   "metadata": {},
   "source": [
    "# Compressing AXE results\n",
    "The original `keyboard-accessibility-results.json` produced by `src/axe/evaluate.js` is too large for GitHub. It's available on Google Drive [here](https://drive.google.com/file/d/18wfkKZmkA-cM6KUVLTfny77OLYSUaFSJ/view?usp=sharing).\n",
    "\n",
    "However, not all axe outputs are necessary for our analysis. \n",
    "\n",
    "This notebook uses keyboard-accessibility-results.json and creates two new files: \n",
    "- keyboard-accessibility-results-small.json is a subset of the first 5 tools. \n",
    "- keyboard-accesibility-results-compressed.json contains only relevant information for all used tools."
   ]
  },
  {
   "cell_type": "code",
   "execution_count": 1,
   "id": "fb1e9212",
   "metadata": {},
   "outputs": [],
   "source": [
    "import os\n",
    "import json"
   ]
  },
  {
   "cell_type": "code",
   "execution_count": 2,
   "id": "89a8bbdb",
   "metadata": {},
   "outputs": [],
   "source": [
    "data_folder = \"../../data/axe\"\n",
    "axe = \"keyboard-accessibility-results.json\"\n",
    "file = f\"{data_folder}/{axe}\""
   ]
  },
  {
   "cell_type": "code",
   "execution_count": 3,
   "id": "8882f452",
   "metadata": {},
   "outputs": [],
   "source": [
    "if not os.path.isfile(file):\n",
    "    print(\"Axe results not found! Download these here: https://drive.google.com/file/d/18wfkKZmkA-cM6KUVLTfny77OLYSUaFSJ/view?usp=sharing\")"
   ]
  },
  {
   "cell_type": "code",
   "execution_count": 4,
   "id": "6bf91ced",
   "metadata": {},
   "outputs": [],
   "source": [
    "data = json.load(open(file))"
   ]
  },
  {
   "cell_type": "code",
   "execution_count": 5,
   "id": "fe7f26f6",
   "metadata": {},
   "outputs": [],
   "source": [
    "# create a file subset since the original file is too big for github\n",
    "\n",
    "with open(f\"{data_folder}/keyboard-accessibility-results-small.json\", \"w\") as f:\n",
    "    json.dump(data[0:5], f, indent=2)"
   ]
  },
  {
   "cell_type": "code",
   "execution_count": null,
   "id": "25f5f1ad",
   "metadata": {},
   "outputs": [],
   "source": [
    "# create a compressed file with only relevant results\n",
    "\n",
    "for data_i in data:\n",
    "    remove = [\"testEngine\", \"testRunner\", \"testEnvironment\", \"timestamp\", \"url\", \"toolOptions\"]\n",
    "    remove_ids = [\"html\"]\n",
    "    remove_nodes = [\"target\", \"html\", \"failureSummary\", \"none\"]\n",
    "    remove_messages = [\"data\", \"relatedNodes\", \"message\"]\n",
    "\n",
    "    for r in remove: \n",
    "        data_i['axeResults'].pop(r, None)\n",
    "\n",
    "    for flag in [\"inapplicable\", \"passes\", \"incomplete\", \"violations\"]:\n",
    "        for id in data_i['axeResults'][flag]:\n",
    "            for r in remove_ids: \n",
    "                id.pop(r, None)\n",
    "                for node in id[\"nodes\"]:\n",
    "                    for r2 in remove_nodes:\n",
    "                        node.pop(r2, None)\n",
    "                    for r3 in remove_messages:\n",
    "                        for item in node[\"any\"]:\n",
    "                            item.pop(r3, None)\n",
    "                        for item in node[\"all\"]:\n",
    "                            item.pop(r3, None)\n"
   ]
  },
  {
   "cell_type": "code",
   "execution_count": 7,
   "id": "a830958c",
   "metadata": {},
   "outputs": [],
   "source": [
    "with open(f\"{data_folder}/keyboard-accessibility-results-compressed.json\", \"w\") as f:\n",
    "    json.dump(data, f, indent=2)"
   ]
  }
 ],
 "metadata": {
  "kernelspec": {
   "display_name": ".venv (3.11.4)",
   "language": "python",
   "name": "python3"
  },
  "language_info": {
   "codemirror_mode": {
    "name": "ipython",
    "version": 3
   },
   "file_extension": ".py",
   "mimetype": "text/x-python",
   "name": "python",
   "nbconvert_exporter": "python",
   "pygments_lexer": "ipython3",
   "version": "3.11.4"
  }
 },
 "nbformat": 4,
 "nbformat_minor": 5
}
